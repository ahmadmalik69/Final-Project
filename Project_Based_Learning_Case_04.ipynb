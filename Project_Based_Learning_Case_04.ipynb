{
 "cells": [
  {
   "cell_type": "markdown",
   "metadata": {
    "_uuid": "2f82cc24efc6283e5a98cadb78fc1a465e44c143"
   },
   "source": [
    "## Import Libraries"
   ]
  },
  {
   "cell_type": "code",
   "execution_count": 1,
   "metadata": {
    "_uuid": "da0236e4b36ce514c1fec3fd72f236d1fa259131",
    "tags": []
   },
   "outputs": [
    {
     "name": "stdout",
     "output_type": "stream",
     "text": [
      "WARNING:tensorflow:From C:\\Users\\captm\\anaconda3\\Lib\\site-packages\\keras\\src\\losses.py:2976: The name tf.losses.sparse_softmax_cross_entropy is deprecated. Please use tf.compat.v1.losses.sparse_softmax_cross_entropy instead.\n",
      "\n"
     ]
    }
   ],
   "source": [
    "# Importing the libraries, fill the import name libraries below\n",
    "import numpy as np\n",
    "import matplotlib.pyplot as plt\n",
    "plt.style.use('fivethirtyeight')\n",
    "import pandas as pd\n",
    "from tensorflow.keras.optimizers import SGD\n",
    "from sklearn.preprocessing import MinMaxScaler\n",
    "#Import keras libraries that you need\n",
    "from keras.models import Sequential\n",
    "from keras.layers import Dense, LSTM, Dropout, GRU, Bidirectional\n",
    "import math\n",
    "from sklearn.metrics import mean_squared_error"
   ]
  },
  {
   "cell_type": "markdown",
   "metadata": {},
   "source": [
    "# EDA"
   ]
  },
  {
   "cell_type": "code",
   "execution_count": 2,
   "metadata": {
    "_uuid": "b288a8e2caf6196daec9cd2bc4ca78fe50345845",
    "tags": []
   },
   "outputs": [],
   "source": [
    "# Some functions to help out with this code\n",
    "def plot_predictions(test,predicted):\n",
    "    plt.plot(test, color='red',label='Real IBM Stock Price')\n",
    "    plt.plot(predicted, color='blue',label='Predicted IBM Stock Price')\n",
    "    plt.title('IBM Stock Price Prediction')\n",
    "    plt.xlabel('Time')\n",
    "    plt.ylabel('IBM Stock Price')\n",
    "    plt.legend()\n",
    "    plt.show()\n",
    "\n",
    "def return_rmse(test,predicted):\n",
    "    rmse = math.sqrt(mean_squared_error(test, predicted))\n",
    "    print(\"The root mean squared error is {}.\".format(rmse))\n",
    "    #fill the function for evaluation model"
   ]
  },
  {
   "cell_type": "code",
   "execution_count": 3,
   "metadata": {
    "_uuid": "4cf10cf27420eb383b93b15c0895139ea96c0ed3",
    "tags": []
   },
   "outputs": [
    {
     "data": {
      "text/html": [
       "<div>\n",
       "<style scoped>\n",
       "    .dataframe tbody tr th:only-of-type {\n",
       "        vertical-align: middle;\n",
       "    }\n",
       "\n",
       "    .dataframe tbody tr th {\n",
       "        vertical-align: top;\n",
       "    }\n",
       "\n",
       "    .dataframe thead th {\n",
       "        text-align: right;\n",
       "    }\n",
       "</style>\n",
       "<table border=\"1\" class=\"dataframe\">\n",
       "  <thead>\n",
       "    <tr style=\"text-align: right;\">\n",
       "      <th></th>\n",
       "      <th>Open</th>\n",
       "      <th>High</th>\n",
       "      <th>Low</th>\n",
       "      <th>Close</th>\n",
       "      <th>Volume</th>\n",
       "      <th>Name</th>\n",
       "    </tr>\n",
       "    <tr>\n",
       "      <th>Date</th>\n",
       "      <th></th>\n",
       "      <th></th>\n",
       "      <th></th>\n",
       "      <th></th>\n",
       "      <th></th>\n",
       "      <th></th>\n",
       "    </tr>\n",
       "  </thead>\n",
       "  <tbody>\n",
       "    <tr>\n",
       "      <th>2006-01-03</th>\n",
       "      <td>47.47</td>\n",
       "      <td>47.85</td>\n",
       "      <td>46.25</td>\n",
       "      <td>47.58</td>\n",
       "      <td>7582127</td>\n",
       "      <td>AMZN</td>\n",
       "    </tr>\n",
       "    <tr>\n",
       "      <th>2006-01-04</th>\n",
       "      <td>47.48</td>\n",
       "      <td>47.73</td>\n",
       "      <td>46.69</td>\n",
       "      <td>47.25</td>\n",
       "      <td>7440914</td>\n",
       "      <td>AMZN</td>\n",
       "    </tr>\n",
       "    <tr>\n",
       "      <th>2006-01-05</th>\n",
       "      <td>47.16</td>\n",
       "      <td>48.20</td>\n",
       "      <td>47.11</td>\n",
       "      <td>47.65</td>\n",
       "      <td>5417258</td>\n",
       "      <td>AMZN</td>\n",
       "    </tr>\n",
       "    <tr>\n",
       "      <th>2006-01-06</th>\n",
       "      <td>47.97</td>\n",
       "      <td>48.58</td>\n",
       "      <td>47.32</td>\n",
       "      <td>47.87</td>\n",
       "      <td>6154285</td>\n",
       "      <td>AMZN</td>\n",
       "    </tr>\n",
       "    <tr>\n",
       "      <th>2006-01-09</th>\n",
       "      <td>46.55</td>\n",
       "      <td>47.10</td>\n",
       "      <td>46.40</td>\n",
       "      <td>47.08</td>\n",
       "      <td>8945056</td>\n",
       "      <td>AMZN</td>\n",
       "    </tr>\n",
       "  </tbody>\n",
       "</table>\n",
       "</div>"
      ],
      "text/plain": [
       "             Open   High    Low  Close   Volume  Name\n",
       "Date                                                 \n",
       "2006-01-03  47.47  47.85  46.25  47.58  7582127  AMZN\n",
       "2006-01-04  47.48  47.73  46.69  47.25  7440914  AMZN\n",
       "2006-01-05  47.16  48.20  47.11  47.65  5417258  AMZN\n",
       "2006-01-06  47.97  48.58  47.32  47.87  6154285  AMZN\n",
       "2006-01-09  46.55  47.10  46.40  47.08  8945056  AMZN"
      ]
     },
     "execution_count": 3,
     "metadata": {},
     "output_type": "execute_result"
    }
   ],
   "source": [
    "# Import Dataset\n",
    "dataset = pd.read_csv('AMZN_2006-01-01_to_2018-01-01.csv', index_col='Date', parse_dates=['Date'])\n",
    "dataset.head() \n",
    "#import dataset based on your directory"
   ]
  },
  {
   "cell_type": "code",
   "execution_count": 4,
   "metadata": {
    "tags": []
   },
   "outputs": [],
   "source": [
    "dataset = dataset.sort_index().loc['2006-01-01' : '2017-12-29', :] "
   ]
  },
  {
   "cell_type": "code",
   "execution_count": 5,
   "metadata": {
    "_uuid": "fb4c9db6d8a5bcf20ffad41747cfa5b6215ba220",
    "tags": []
   },
   "outputs": [],
   "source": [
    "# Checking for missing values, choose for data training and set in kind of year\n",
    "#a : until year training \n",
    "#b : year for testing\n",
    "training_set = dataset[:'2016'].iloc[:,1:2].values\n",
    "test_set = dataset['2017':].iloc[:,1:2].values"
   ]
  },
  {
   "cell_type": "markdown",
   "metadata": {},
   "source": [
    "### Write your insight in EDA here\n",
    "Lorem Ipsum is simply dummy text of the printing and typesetting industry. Lorem Ipsum has been the industry's standard dummy text ever since the 1500s, when an unknown printer took a galley of type and scrambled it to make a type specimen book. It has survived not only five centuries, but also the leap into electronic typesetting, remaining essentially unchanged. It was popularised in the 1960s with the release of Letraset sheets containing Lorem Ipsum passages, and more recently with desktop publishing software like Aldus PageMaker including versions of Lorem Ipsum."
   ]
  },
  {
   "cell_type": "code",
   "execution_count": 6,
   "metadata": {
    "_uuid": "bf5a9463d58e73852d2b70be9611e8cf1f4166fd",
    "tags": []
   },
   "outputs": [
    {
     "data": {
      "image/png": "[encoded data removed]",
      "text/plain": [
       "<Figure size 1600x400 with 1 Axes>"
      ]
     },
     "metadata": {},
     "output_type": "display_data"
    }
   ],
   "source": [
    "#Checking for stock's market company with line plot\n",
    "#Write your code below\n",
    "dataset[\"High\"][:'2016'].plot(figsize=(16,4),legend=True)\n",
    "dataset[\"High\"]['2017':].plot(figsize=(16,4),legend=True)\n",
    "plt.legend(['Training set (Before 2017)','Test set (2017 and beyond)'])\n",
    "plt.title('IBM stock price')\n",
    "plt.show()"
   ]
  },
  {
   "cell_type": "code",
   "execution_count": 7,
   "metadata": {
    "_uuid": "bcc9c36165fc07d258bd5ea87874d2da17fa4a4d",
    "tags": []
   },
   "outputs": [],
   "source": [
    "# Scaling with minmaxscaller for data train\n",
    "sc = MinMaxScaler(feature_range=(0,1))\n",
    "training_set_scaled = sc.fit_transform(training_set)"
   ]
  },
  {
   "cell_type": "code",
   "execution_count": 8,
   "metadata": {
    "tags": []
   },
   "outputs": [
    {
     "data": {
      "text/plain": [
       "(2768, 1)"
      ]
     },
     "execution_count": 8,
     "metadata": {},
     "output_type": "execute_result"
    }
   ],
   "source": [
    "#checking shape of data train\n",
    "training_set_scaled.shape"
   ]
  },
  {
   "cell_type": "code",
   "execution_count": 9,
   "metadata": {
    "_uuid": "fccfb866a2b4c702e0b2742f7c0289512d713d1b",
    "tags": []
   },
   "outputs": [],
   "source": [
    "# create data structure to fill how many row for input in your model at data train\n",
    "X_train = []\n",
    "y_train = []\n",
    "for i in range(60,2768):\n",
    "    #fill for x_train and y_train here\n",
    "    X_train.append(training_set_scaled[i-60:i,0])\n",
    "    y_train.append(training_set_scaled[i,0])\n",
    "#change it into the array\n",
    "X_train, y_train = np.array(X_train), np.array(y_train)"
   ]
  },
  {
   "cell_type": "code",
   "execution_count": 10,
   "metadata": {
    "_uuid": "637f699d3c4bde4b783de56ed4dd70a1bf59760d",
    "tags": []
   },
   "outputs": [],
   "source": [
    "# Reshaping X_train before modelling\n",
    "X_train = np.reshape(X_train, (X_train.shape[0],X_train.shape[1],1))"
   ]
  },
  {
   "cell_type": "markdown",
   "metadata": {},
   "source": [
    "## Modelling"
   ]
  },
  {
   "cell_type": "code",
   "execution_count": 11,
   "metadata": {
    "_uuid": "df20eb7e8062dae0a3aff2182aa440faddd0017d",
    "scrolled": true,
    "tags": []
   },
   "outputs": [
    {
     "name": "stdout",
     "output_type": "stream",
     "text": [
      "WARNING:tensorflow:From C:\\Users\\captm\\anaconda3\\Lib\\site-packages\\keras\\src\\backend.py:873: The name tf.get_default_graph is deprecated. Please use tf.compat.v1.get_default_graph instead.\n",
      "\n",
      "WARNING:tensorflow:From C:\\Users\\captm\\anaconda3\\Lib\\site-packages\\keras\\src\\optimizers\\__init__.py:309: The name tf.train.Optimizer is deprecated. Please use tf.compat.v1.train.Optimizer instead.\n",
      "\n",
      "Epoch 1/200\n",
      "WARNING:tensorflow:From C:\\Users\\captm\\anaconda3\\Lib\\site-packages\\keras\\src\\utils\\tf_utils.py:492: The name tf.ragged.RaggedTensorValue is deprecated. Please use tf.compat.v1.ragged.RaggedTensorValue instead.\n",
      "\n",
      "85/85 [==============================] - 15s 75ms/step - loss: 0.0080\n",
      "Epoch 2/200\n",
      "85/85 [==============================] - 6s 74ms/step - loss: 0.0039\n",
      "Epoch 3/200\n",
      "85/85 [==============================] - 6s 76ms/step - loss: 0.0035\n",
      "Epoch 4/200\n",
      "85/85 [==============================] - 7s 78ms/step - loss: 0.0027\n",
      "Epoch 5/200\n",
      "85/85 [==============================] - 7s 79ms/step - loss: 0.0026\n",
      "Epoch 6/200\n",
      "85/85 [==============================] - 7s 79ms/step - loss: 0.0022\n",
      "Epoch 7/200\n",
      "85/85 [==============================] - 7s 79ms/step - loss: 0.0024\n",
      "Epoch 8/200\n",
      "85/85 [==============================] - 7s 78ms/step - loss: 0.0020\n",
      "Epoch 9/200\n",
      "85/85 [==============================] - 7s 86ms/step - loss: 0.0020\n",
      "Epoch 10/200\n",
      "85/85 [==============================] - 7s 86ms/step - loss: 0.0018\n",
      "Epoch 11/200\n",
      "85/85 [==============================] - 7s 81ms/step - loss: 0.0018\n",
      "Epoch 12/200\n",
      "85/85 [==============================] - 7s 79ms/step - loss: 0.0015\n",
      "Epoch 13/200\n",
      "85/85 [==============================] - 7s 84ms/step - loss: 0.0015\n",
      "Epoch 14/200\n",
      "85/85 [==============================] - 7s 78ms/step - loss: 0.0017\n",
      "Epoch 15/200\n",
      "85/85 [==============================] - 7s 81ms/step - loss: 0.0015\n",
      "Epoch 16/200\n",
      "85/85 [==============================] - 7s 86ms/step - loss: 0.0014\n",
      "Epoch 17/200\n",
      "85/85 [==============================] - 7s 79ms/step - loss: 0.0015\n",
      "Epoch 18/200\n",
      "85/85 [==============================] - 7s 86ms/step - loss: 0.0014\n",
      "Epoch 19/200\n",
      "85/85 [==============================] - 7s 78ms/step - loss: 0.0014\n",
      "Epoch 20/200\n",
      "85/85 [==============================] - 6s 76ms/step - loss: 0.0014\n",
      "Epoch 21/200\n",
      "85/85 [==============================] - 6s 75ms/step - loss: 0.0014\n",
      "Epoch 22/200\n",
      "85/85 [==============================] - 7s 77ms/step - loss: 0.0013\n",
      "Epoch 23/200\n",
      "85/85 [==============================] - 7s 78ms/step - loss: 0.0014\n",
      "Epoch 24/200\n",
      "85/85 [==============================] - 6s 75ms/step - loss: 0.0012\n",
      "Epoch 25/200\n",
      "85/85 [==============================] - 7s 79ms/step - loss: 0.0012\n",
      "Epoch 26/200\n",
      "85/85 [==============================] - 7s 77ms/step - loss: 0.0012\n",
      "Epoch 27/200\n",
      "85/85 [==============================] - 7s 83ms/step - loss: 0.0012\n",
      "Epoch 28/200\n",
      "85/85 [==============================] - 7s 85ms/step - loss: 0.0012\n",
      "Epoch 29/200\n",
      "85/85 [==============================] - 8s 92ms/step - loss: 0.0011\n",
      "Epoch 30/200\n",
      "85/85 [==============================] - 8s 89ms/step - loss: 0.0012\n",
      "Epoch 31/200\n",
      "85/85 [==============================] - 7s 86ms/step - loss: 0.0011\n",
      "Epoch 32/200\n",
      "85/85 [==============================] - 8s 93ms/step - loss: 0.0010\n",
      "Epoch 33/200\n",
      "85/85 [==============================] - 7s 83ms/step - loss: 0.0011\n",
      "Epoch 34/200\n",
      "85/85 [==============================] - 7s 81ms/step - loss: 0.0010\n",
      "Epoch 35/200\n",
      "85/85 [==============================] - 7s 82ms/step - loss: 0.0011\n",
      "Epoch 36/200\n",
      "85/85 [==============================] - 8s 99ms/step - loss: 0.0011\n",
      "Epoch 37/200\n",
      "85/85 [==============================] - 7s 86ms/step - loss: 9.8684e-04\n",
      "Epoch 38/200\n",
      "85/85 [==============================] - 7s 83ms/step - loss: 0.0010\n",
      "Epoch 39/200\n",
      "85/85 [==============================] - 7s 79ms/step - loss: 0.0011\n",
      "Epoch 40/200\n",
      "85/85 [==============================] - 7s 79ms/step - loss: 0.0011\n",
      "Epoch 41/200\n",
      "85/85 [==============================] - 7s 82ms/step - loss: 0.0010\n",
      "Epoch 42/200\n",
      "85/85 [==============================] - 9s 106ms/step - loss: 9.3890e-04\n",
      "Epoch 43/200\n",
      "85/85 [==============================] - 9s 100ms/step - loss: 9.9312e-04\n",
      "Epoch 44/200\n",
      "85/85 [==============================] - 8s 94ms/step - loss: 9.5596e-04\n",
      "Epoch 45/200\n",
      "85/85 [==============================] - 7s 80ms/step - loss: 0.0010\n",
      "Epoch 46/200\n",
      "85/85 [==============================] - 9s 103ms/step - loss: 9.7042e-04\n",
      "Epoch 47/200\n",
      "85/85 [==============================] - 8s 98ms/step - loss: 9.6590e-04\n",
      "Epoch 48/200\n",
      "85/85 [==============================] - 7s 82ms/step - loss: 0.0010\n",
      "Epoch 49/200\n",
      "85/85 [==============================] - 7s 84ms/step - loss: 9.6106e-04\n",
      "Epoch 50/200\n",
      "85/85 [==============================] - 7s 80ms/step - loss: 0.0011\n",
      "Epoch 51/200\n",
      "85/85 [==============================] - 7s 84ms/step - loss: 9.6032e-04\n",
      "Epoch 52/200\n",
      "85/85 [==============================] - 7s 84ms/step - loss: 9.3941e-04\n",
      "Epoch 53/200\n",
      "85/85 [==============================] - 7s 81ms/step - loss: 9.2585e-04\n",
      "Epoch 54/200\n",
      "85/85 [==============================] - 7s 82ms/step - loss: 9.6729e-04\n",
      "Epoch 55/200\n",
      "85/85 [==============================] - 7s 81ms/step - loss: 8.7175e-04\n",
      "Epoch 56/200\n",
      "85/85 [==============================] - 7s 84ms/step - loss: 9.7297e-04\n",
      "Epoch 57/200\n",
      "85/85 [==============================] - 6s 74ms/step - loss: 8.5570e-04\n",
      "Epoch 58/200\n",
      "85/85 [==============================] - 7s 79ms/step - loss: 8.2080e-04\n",
      "Epoch 59/200\n",
      "85/85 [==============================] - 7s 87ms/step - loss: 9.1901e-04\n",
      "Epoch 60/200\n",
      "85/85 [==============================] - 8s 97ms/step - loss: 9.3703e-04\n",
      "Epoch 61/200\n",
      "85/85 [==============================] - 8s 93ms/step - loss: 8.3982e-04\n",
      "Epoch 62/200\n",
      "85/85 [==============================] - 9s 101ms/step - loss: 9.9329e-04\n",
      "Epoch 63/200\n",
      "85/85 [==============================] - 8s 91ms/step - loss: 8.7302e-04\n",
      "Epoch 64/200\n",
      "85/85 [==============================] - 7s 88ms/step - loss: 9.5022e-04\n",
      "Epoch 65/200\n",
      "85/85 [==============================] - 7s 86ms/step - loss: 8.7169e-04\n",
      "Epoch 66/200\n",
      "85/85 [==============================] - 8s 89ms/step - loss: 8.7586e-04\n",
      "Epoch 67/200\n",
      "85/85 [==============================] - 8s 95ms/step - loss: 8.6702e-04\n",
      "Epoch 68/200\n",
      "85/85 [==============================] - 8s 90ms/step - loss: 8.5625e-04\n",
      "Epoch 69/200\n",
      "85/85 [==============================] - 8s 92ms/step - loss: 8.2885e-04\n",
      "Epoch 70/200\n",
      "85/85 [==============================] - 8s 96ms/step - loss: 8.6327e-04\n",
      "Epoch 71/200\n",
      "85/85 [==============================] - 8s 92ms/step - loss: 8.2863e-04\n",
      "Epoch 72/200\n",
      "85/85 [==============================] - 7s 88ms/step - loss: 8.5102e-04\n",
      "Epoch 73/200\n",
      "85/85 [==============================] - 7s 86ms/step - loss: 8.4550e-04\n",
      "Epoch 74/200\n",
      "85/85 [==============================] - 8s 89ms/step - loss: 8.5980e-04\n",
      "Epoch 75/200\n",
      "85/85 [==============================] - 8s 94ms/step - loss: 8.8349e-04\n",
      "Epoch 76/200\n",
      "85/85 [==============================] - 7s 87ms/step - loss: 8.4723e-04\n",
      "Epoch 77/200\n",
      "85/85 [==============================] - 8s 96ms/step - loss: 7.7109e-04\n",
      "Epoch 78/200\n",
      "85/85 [==============================] - 9s 106ms/step - loss: 7.9733e-04\n",
      "Epoch 79/200\n",
      "85/85 [==============================] - 9s 109ms/step - loss: 8.4974e-04\n",
      "Epoch 80/200\n",
      "85/85 [==============================] - 10s 120ms/step - loss: 9.0217e-04\n",
      "Epoch 81/200\n",
      "85/85 [==============================] - 12s 136ms/step - loss: 9.2994e-04\n",
      "Epoch 82/200\n",
      "85/85 [==============================] - 11s 135ms/step - loss: 8.4708e-04\n",
      "Epoch 83/200\n",
      "85/85 [==============================] - 10s 121ms/step - loss: 8.3732e-04\n",
      "Epoch 84/200\n",
      "85/85 [==============================] - 9s 107ms/step - loss: 8.3462e-04\n",
      "Epoch 85/200\n",
      "85/85 [==============================] - 10s 112ms/step - loss: 8.3256e-04\n",
      "Epoch 86/200\n",
      "85/85 [==============================] - 9s 109ms/step - loss: 8.1384e-04\n",
      "Epoch 87/200\n",
      "85/85 [==============================] - 10s 117ms/step - loss: 8.5267e-04\n",
      "Epoch 88/200\n",
      "85/85 [==============================] - 10s 118ms/step - loss: 9.1104e-04\n",
      "Epoch 89/200\n",
      "85/85 [==============================] - 10s 117ms/step - loss: 7.6129e-04\n",
      "Epoch 90/200\n",
      "85/85 [==============================] - 10s 119ms/step - loss: 8.6262e-04\n",
      "Epoch 91/200\n"
     ]
    },
    {
     "name": "stdout",
     "output_type": "stream",
     "text": [
      "85/85 [==============================] - 10s 118ms/step - loss: 7.9704e-04\n",
      "Epoch 92/200\n",
      "85/85 [==============================] - 10s 118ms/step - loss: 8.3549e-04\n",
      "Epoch 93/200\n",
      "85/85 [==============================] - 10s 113ms/step - loss: 7.7723e-04\n",
      "Epoch 94/200\n",
      "85/85 [==============================] - 9s 109ms/step - loss: 8.1550e-04\n",
      "Epoch 95/200\n",
      "85/85 [==============================] - 10s 115ms/step - loss: 7.9370e-04\n",
      "Epoch 96/200\n",
      "85/85 [==============================] - 9s 111ms/step - loss: 7.6149e-04\n",
      "Epoch 97/200\n",
      "85/85 [==============================] - 10s 120ms/step - loss: 7.7734e-04\n",
      "Epoch 98/200\n",
      "85/85 [==============================] - 11s 127ms/step - loss: 7.6062e-04\n",
      "Epoch 99/200\n",
      "85/85 [==============================] - 10s 116ms/step - loss: 7.9734e-04\n",
      "Epoch 100/200\n",
      "85/85 [==============================] - 9s 108ms/step - loss: 8.3846e-04\n",
      "Epoch 101/200\n",
      "85/85 [==============================] - 10s 112ms/step - loss: 7.6804e-04\n",
      "Epoch 102/200\n",
      "85/85 [==============================] - 10s 115ms/step - loss: 8.1290e-04\n",
      "Epoch 103/200\n",
      "85/85 [==============================] - 10s 121ms/step - loss: 8.0628e-04\n",
      "Epoch 104/200\n",
      "85/85 [==============================] - 10s 120ms/step - loss: 8.3601e-04\n",
      "Epoch 105/200\n",
      "85/85 [==============================] - 10s 121ms/step - loss: 7.6830e-04\n",
      "Epoch 106/200\n",
      "85/85 [==============================] - 10s 117ms/step - loss: 8.4743e-04\n",
      "Epoch 107/200\n",
      "85/85 [==============================] - 10s 123ms/step - loss: 7.7428e-04\n",
      "Epoch 108/200\n",
      "85/85 [==============================] - 11s 124ms/step - loss: 7.6118e-04\n",
      "Epoch 109/200\n",
      "85/85 [==============================] - 10s 118ms/step - loss: 7.5390e-04\n",
      "Epoch 110/200\n",
      "85/85 [==============================] - 11s 129ms/step - loss: 7.5800e-04\n",
      "Epoch 111/200\n",
      "85/85 [==============================] - 11s 131ms/step - loss: 7.3579e-04\n",
      "Epoch 112/200\n",
      "85/85 [==============================] - 11s 129ms/step - loss: 7.2297e-04\n",
      "Epoch 113/200\n",
      "85/85 [==============================] - 11s 127ms/step - loss: 7.9380e-04\n",
      "Epoch 114/200\n",
      "85/85 [==============================] - 10s 120ms/step - loss: 7.5325e-04\n",
      "Epoch 115/200\n",
      "85/85 [==============================] - 11s 127ms/step - loss: 8.3179e-04\n",
      "Epoch 116/200\n",
      "85/85 [==============================] - 11s 127ms/step - loss: 7.1881e-04\n",
      "Epoch 117/200\n",
      "85/85 [==============================] - 11s 127ms/step - loss: 7.0872e-04\n",
      "Epoch 118/200\n",
      "85/85 [==============================] - 11s 131ms/step - loss: 7.6347e-04\n",
      "Epoch 119/200\n",
      "85/85 [==============================] - 10s 123ms/step - loss: 7.5100e-04\n",
      "Epoch 120/200\n",
      "85/85 [==============================] - 11s 127ms/step - loss: 7.4467e-04\n",
      "Epoch 121/200\n",
      "85/85 [==============================] - 11s 127ms/step - loss: 7.4334e-04\n",
      "Epoch 122/200\n",
      "85/85 [==============================] - 10s 123ms/step - loss: 7.5191e-04\n",
      "Epoch 123/200\n",
      "85/85 [==============================] - 11s 125ms/step - loss: 7.3961e-04\n",
      "Epoch 124/200\n",
      "85/85 [==============================] - 11s 128ms/step - loss: 7.7684e-04\n",
      "Epoch 125/200\n",
      "85/85 [==============================] - 10s 123ms/step - loss: 8.1315e-04\n",
      "Epoch 126/200\n",
      "85/85 [==============================] - 11s 127ms/step - loss: 8.4189e-04\n",
      "Epoch 127/200\n",
      "85/85 [==============================] - 11s 129ms/step - loss: 7.2355e-04\n",
      "Epoch 128/200\n",
      "85/85 [==============================] - 11s 128ms/step - loss: 7.2185e-04\n",
      "Epoch 129/200\n",
      "85/85 [==============================] - 11s 133ms/step - loss: 7.4992e-04\n",
      "Epoch 130/200\n",
      "85/85 [==============================] - 11s 126ms/step - loss: 7.0857e-04\n",
      "Epoch 131/200\n",
      "85/85 [==============================] - 11s 126ms/step - loss: 7.7203e-04\n",
      "Epoch 132/200\n",
      "85/85 [==============================] - 11s 126ms/step - loss: 8.0311e-04\n",
      "Epoch 133/200\n",
      "85/85 [==============================] - 11s 126ms/step - loss: 8.0722e-04\n",
      "Epoch 134/200\n",
      "85/85 [==============================] - 10s 122ms/step - loss: 8.1655e-04\n",
      "Epoch 135/200\n",
      "85/85 [==============================] - 10s 118ms/step - loss: 7.4775e-04\n",
      "Epoch 136/200\n",
      "85/85 [==============================] - 10s 119ms/step - loss: 7.5255e-04\n",
      "Epoch 137/200\n",
      "85/85 [==============================] - 10s 121ms/step - loss: 7.5056e-04\n",
      "Epoch 138/200\n",
      "85/85 [==============================] - 10s 122ms/step - loss: 7.4031e-04\n",
      "Epoch 139/200\n",
      "85/85 [==============================] - 10s 119ms/step - loss: 7.4532e-04\n",
      "Epoch 140/200\n",
      "85/85 [==============================] - 11s 129ms/step - loss: 7.2271e-04\n",
      "Epoch 141/200\n",
      "85/85 [==============================] - 11s 131ms/step - loss: 7.2368e-04\n",
      "Epoch 142/200\n",
      "85/85 [==============================] - 11s 125ms/step - loss: 7.7598e-04\n",
      "Epoch 143/200\n",
      "85/85 [==============================] - 11s 131ms/step - loss: 7.0876e-04\n",
      "Epoch 144/200\n",
      "85/85 [==============================] - 11s 127ms/step - loss: 7.3877e-04\n",
      "Epoch 145/200\n",
      "85/85 [==============================] - 11s 128ms/step - loss: 7.7658e-04\n",
      "Epoch 146/200\n",
      "85/85 [==============================] - 11s 126ms/step - loss: 7.6892e-04\n",
      "Epoch 147/200\n",
      "85/85 [==============================] - 11s 128ms/step - loss: 7.7051e-04\n",
      "Epoch 148/200\n",
      "85/85 [==============================] - 11s 124ms/step - loss: 6.7278e-04\n",
      "Epoch 149/200\n",
      "85/85 [==============================] - 11s 129ms/step - loss: 7.1477e-04\n",
      "Epoch 150/200\n",
      "85/85 [==============================] - 11s 128ms/step - loss: 6.9188e-04\n",
      "Epoch 151/200\n",
      "85/85 [==============================] - 11s 129ms/step - loss: 7.0116e-04\n",
      "Epoch 152/200\n",
      "85/85 [==============================] - 11s 129ms/step - loss: 7.4949e-04\n",
      "Epoch 153/200\n",
      "85/85 [==============================] - 11s 125ms/step - loss: 7.8449e-04\n",
      "Epoch 154/200\n",
      "85/85 [==============================] - 11s 127ms/step - loss: 7.8711e-04\n",
      "Epoch 155/200\n",
      "85/85 [==============================] - 11s 131ms/step - loss: 7.1741e-04\n",
      "Epoch 156/200\n",
      "85/85 [==============================] - 11s 133ms/step - loss: 7.3640e-04\n",
      "Epoch 157/200\n",
      "85/85 [==============================] - 11s 130ms/step - loss: 7.2720e-04\n",
      "Epoch 158/200\n",
      "85/85 [==============================] - 10s 121ms/step - loss: 7.4547e-04\n",
      "Epoch 159/200\n",
      "85/85 [==============================] - 10s 121ms/step - loss: 7.3704e-04\n",
      "Epoch 160/200\n",
      "85/85 [==============================] - 11s 124ms/step - loss: 7.4776e-04\n",
      "Epoch 161/200\n",
      "85/85 [==============================] - 11s 127ms/step - loss: 7.4615e-04\n",
      "Epoch 162/200\n",
      "85/85 [==============================] - 11s 129ms/step - loss: 6.9723e-04\n",
      "Epoch 163/200\n",
      "85/85 [==============================] - 11s 126ms/step - loss: 7.0749e-04\n",
      "Epoch 164/200\n",
      "85/85 [==============================] - 10s 121ms/step - loss: 6.6254e-04\n",
      "Epoch 165/200\n",
      "85/85 [==============================] - 11s 128ms/step - loss: 6.8770e-04\n",
      "Epoch 166/200\n",
      "85/85 [==============================] - 11s 128ms/step - loss: 7.2799e-04\n",
      "Epoch 167/200\n",
      "85/85 [==============================] - 11s 124ms/step - loss: 8.0105e-04\n",
      "Epoch 168/200\n",
      "85/85 [==============================] - 11s 127ms/step - loss: 7.1700e-04\n",
      "Epoch 169/200\n",
      "85/85 [==============================] - 11s 134ms/step - loss: 7.5331e-04\n",
      "Epoch 170/200\n",
      "85/85 [==============================] - 11s 129ms/step - loss: 7.2083e-04\n",
      "Epoch 171/200\n",
      "85/85 [==============================] - 11s 134ms/step - loss: 7.4438e-04\n",
      "Epoch 172/200\n",
      "85/85 [==============================] - 11s 129ms/step - loss: 7.8719e-04\n",
      "Epoch 173/200\n",
      "85/85 [==============================] - 11s 129ms/step - loss: 6.7363e-04\n",
      "Epoch 174/200\n",
      "85/85 [==============================] - 10s 122ms/step - loss: 7.3431e-04\n",
      "Epoch 175/200\n",
      "85/85 [==============================] - 11s 128ms/step - loss: 7.5540e-04\n",
      "Epoch 176/200\n",
      "85/85 [==============================] - 11s 126ms/step - loss: 6.8625e-04\n",
      "Epoch 177/200\n",
      "85/85 [==============================] - 11s 125ms/step - loss: 6.9985e-04\n",
      "Epoch 178/200\n",
      "85/85 [==============================] - 11s 135ms/step - loss: 7.0713e-04\n",
      "Epoch 179/200\n",
      "85/85 [==============================] - 11s 134ms/step - loss: 7.3595e-04\n",
      "Epoch 180/200\n",
      "85/85 [==============================] - 11s 125ms/step - loss: 7.5255e-04\n",
      "Epoch 181/200\n",
      "85/85 [==============================] - 11s 128ms/step - loss: 7.5789e-04\n",
      "Epoch 182/200\n",
      "85/85 [==============================] - 11s 129ms/step - loss: 7.5035e-04\n",
      "Epoch 183/200\n"
     ]
    },
    {
     "name": "stdout",
     "output_type": "stream",
     "text": [
      "85/85 [==============================] - 11s 125ms/step - loss: 7.2360e-04\n",
      "Epoch 184/200\n",
      "85/85 [==============================] - 11s 128ms/step - loss: 7.3800e-04\n",
      "Epoch 185/200\n",
      "85/85 [==============================] - 11s 124ms/step - loss: 6.9723e-04\n",
      "Epoch 186/200\n",
      "85/85 [==============================] - 11s 124ms/step - loss: 7.1959e-04\n",
      "Epoch 187/200\n",
      "85/85 [==============================] - 10s 123ms/step - loss: 6.6790e-04\n",
      "Epoch 188/200\n",
      "85/85 [==============================] - 11s 126ms/step - loss: 7.2183e-04\n",
      "Epoch 189/200\n",
      "85/85 [==============================] - 12s 143ms/step - loss: 6.6299e-04\n",
      "Epoch 190/200\n",
      "85/85 [==============================] - 12s 142ms/step - loss: 6.9545e-04\n",
      "Epoch 191/200\n",
      "85/85 [==============================] - 10s 119ms/step - loss: 7.3196e-04\n",
      "Epoch 192/200\n",
      "85/85 [==============================] - 10s 124ms/step - loss: 6.6022e-04\n",
      "Epoch 193/200\n",
      "85/85 [==============================] - 10s 114ms/step - loss: 6.6102e-04\n",
      "Epoch 194/200\n",
      "85/85 [==============================] - 9s 110ms/step - loss: 7.2689e-04\n",
      "Epoch 195/200\n",
      "85/85 [==============================] - 8s 97ms/step - loss: 7.6455e-04\n",
      "Epoch 196/200\n",
      "85/85 [==============================] - 8s 90ms/step - loss: 7.5995e-04\n",
      "Epoch 197/200\n",
      "85/85 [==============================] - 7s 88ms/step - loss: 6.5606e-04\n",
      "Epoch 198/200\n",
      "85/85 [==============================] - 7s 78ms/step - loss: 7.2674e-04\n",
      "Epoch 199/200\n",
      "85/85 [==============================] - 7s 77ms/step - loss: 6.6560e-04\n",
      "Epoch 200/200\n",
      "85/85 [==============================] - 7s 87ms/step - loss: 6.7246e-04\n"
     ]
    },
    {
     "data": {
      "text/plain": [
       "<keras.src.callbacks.History at 0x1682d71efd0>"
      ]
     },
     "execution_count": 11,
     "metadata": {},
     "output_type": "execute_result"
    }
   ],
   "source": [
    "# Sequential Modelling\n",
    "model = Sequential()\n",
    "# First LSTM layer with Dropout regularisation\n",
    "model.add(LSTM(units=50, return_sequences=True, input_shape=(X_train.shape[1],1)))\n",
    "model.add(Dropout(0.2))\n",
    "# Second LSTM layer\n",
    "model.add(LSTM(units=50, return_sequences=True))\n",
    "model.add(Dropout(0.2))\n",
    "# Third LSTM layer, fill the code below\n",
    "model.add(LSTM(units=50, return_sequences=True))\n",
    "model.add(Dropout(0.2))\n",
    "# Fourth LSTM layer, fill the code below\n",
    "model.add(LSTM(units=50))\n",
    "model.add(Dropout(0.2))\n",
    "# The output layer\n",
    "model.add(Dense(units=1))\n",
    "# Compiling\n",
    "model.compile(optimizer='rmsprop',loss='mean_squared_error')\n",
    "# Train fitting for the model\n",
    "model.fit(X_train,y_train,epochs=200,batch_size=32)"
   ]
  },
  {
   "cell_type": "code",
   "execution_count": 12,
   "metadata": {
    "_uuid": "326fa85615622feb484cc4c848edeec6f7133913",
    "tags": []
   },
   "outputs": [],
   "source": [
    "# Prepare for data test similar way for data train\n",
    "dataset_total = pd.concat((dataset[\"High\"][:'2016'],dataset[\"High\"]['2017':]),axis=0)\n",
    "\n",
    "#Transform the inputs\n",
    "inputs = dataset_total[len(dataset_total)-len(test_set) - 60:].values\n",
    "inputs = inputs.reshape(-1,1)\n",
    "inputs  = sc.transform(inputs)"
   ]
  },
  {
   "cell_type": "code",
   "execution_count": 13,
   "metadata": {
    "tags": []
   },
   "outputs": [
    {
     "data": {
      "text/plain": [
       "(311, 1)"
      ]
     },
     "execution_count": 13,
     "metadata": {},
     "output_type": "execute_result"
    }
   ],
   "source": [
    "#checking data test shape\n",
    "inputs.shape"
   ]
  },
  {
   "cell_type": "markdown",
   "metadata": {},
   "source": [
    "### Prediction"
   ]
  },
  {
   "cell_type": "code",
   "execution_count": 14,
   "metadata": {
    "_uuid": "435b8024814939ac4fbd372baa0cd8cfc78f80bc",
    "tags": []
   },
   "outputs": [
    {
     "name": "stdout",
     "output_type": "stream",
     "text": [
      "8/8 [==============================] - 6s 30ms/step\n"
     ]
    }
   ],
   "source": [
    "# Preparing X_test and predicting the prices of the stock's that you choose\n",
    "X_test = []\n",
    "for i in range(60,311):\n",
    "    X_test.append(inputs[i-60:i,0])\n",
    "X_test = np.array(X_test)\n",
    "X_test = np.reshape(X_test, (X_test.shape[0],X_test.shape[1],1))\n",
    "#Predicting stocks price\n",
    "predicted_stock_price = model.predict(X_test)\n",
    "predicted_stock_price = sc.inverse_transform(predicted_stock_price)"
   ]
  },
  {
   "cell_type": "code",
   "execution_count": 15,
   "metadata": {
    "_uuid": "b774a8e79e53eac89694cafef6b11aa99226b95f",
    "tags": []
   },
   "outputs": [
    {
     "data": {
      "image/png": "[encoded data removed]",
      "text/plain": [
       "<Figure size 640x480 with 1 Axes>"
      ]
     },
     "metadata": {},
     "output_type": "display_data"
    }
   ],
   "source": [
    "# Visualizing the results for prediction \n",
    "plot_predictions(test_set,predicted_stock_price)"
   ]
  },
  {
   "cell_type": "code",
   "execution_count": 16,
   "metadata": {
    "_uuid": "f6f6db0b6e1f17ac63c06ce49856873d98ba5f00",
    "tags": []
   },
   "outputs": [
    {
     "name": "stdout",
     "output_type": "stream",
     "text": [
      "The root mean squared error is 60.071811351851416.\n"
     ]
    }
   ],
   "source": [
    "# Evaluating our model with RMSE function above\n",
    "return_rmse(test_set,predicted_stock_price)"
   ]
  },
  {
   "cell_type": "markdown",
   "metadata": {
    "_uuid": "a4cf704ab3cd091f63b7b9a1b9224a49f0913171"
   },
   "source": [
    "### Write your Insight and advice here :)\n"
   ]
  },
  {
   "cell_type": "markdown",
   "metadata": {},
   "source": [
    "Hasil dari RMSE masih besar, yaitu 60,07. Sehingga saran yang dapat saya berikan adalah mengunakan metode GRU"
   ]
  }
 ],
 "metadata": {
  "kernelspec": {
   "display_name": "Python 3 (ipykernel)",
   "language": "python",
   "name": "python3"
  },
  "language_info": {
   "codemirror_mode": {
    "name": "ipython",
    "version": 3
   },
   "file_extension": ".py",
   "mimetype": "text/x-python",
   "name": "python",
   "nbconvert_exporter": "python",
   "pygments_lexer": "ipython3",
   "version": "3.11.5"
  }
 },
 "nbformat": 4,
 "nbformat_minor": 4
}
